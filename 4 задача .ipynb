{
 "cells": [
  {
   "cell_type": "markdown",
   "id": "03c20414",
   "metadata": {},
   "source": [
    "\n",
    "\n",
    "\n",
    "## Ответы на вопросы: \n",
    "1. Могу сказать, что есть калькуляторы, которые подбирают подходящий размер выборки, в которые мы вбиваем желаемые параметры. Обычно это ожидаемый размер эффекта, статистическую мощность теста (обычно 80-90%), уровень значимости (часто 5%), а также предварительные оценки метрик для каждой группы. \n",
    "2. В бриф эксперимента должны входить: четкое описание целей теста, гипотезы, описание контрольной и экспериментальной групп, параметры тестирования, критерии успеха, методы сбора и анализа данных. Должны также учесть различные промо, чтобы они не помешали эксперименту и прочие влияние из вне (например, праздники). На мой взгляд, самое важное, это понимание, к чему мы хотим прийти и какой вывод получить. \n",
    "3. Определяем метрики на основании целей теста. Они должны быть достаточно чувствительными к изменениям, то есть глоабльные метрики компании не подходят. Если говорить более конкретно, то метрики должны быть релевантными, точными, и консистентными. Основная их цель показать влияние эксперимента. Помимо этого к качеству метрики можно отнести терпимость к внешним событиям и стабильность. "
   ]
  },
  {
   "cell_type": "markdown",
   "id": "bf3ceb05",
   "metadata": {},
   "source": [
    "## Проверка данных"
   ]
  },
  {
   "cell_type": "markdown",
   "id": "18e3152f",
   "metadata": {},
   "source": [
    "Постараемся проверить данные на всё возможное:\n",
    "    - выбросы\n",
    "    -пропуски \n",
    "    -консистентность \n",
    "    \n",
    "Посмотрим распределение\n"
   ]
  },
  {
   "cell_type": "code",
   "execution_count": 3,
   "id": "4772bae1",
   "metadata": {},
   "outputs": [
    {
     "data": {
      "text/plain": [
       "(   transactionId   visitorId        date  revenue group\n",
       " 0     3667963787  3312258926  2019-08-15     1650     B\n",
       " 1     2804400009  3642806036  2019-08-15      730     B\n",
       " 2     2961555356  4069496402  2019-08-15      400     A\n",
       " 3     3797467345  1196621759  2019-08-15     9759     B\n",
       " 4     2282983706  2322279887  2019-08-15     2308     B,\n",
       "          date group  visitors\n",
       " 0  2019-08-01     A       719\n",
       " 1  2019-08-02     A       619\n",
       " 2  2019-08-03     A       507\n",
       " 3  2019-08-04     A       717\n",
       " 4  2019-08-05     A       756)"
      ]
     },
     "execution_count": 3,
     "metadata": {},
     "output_type": "execute_result"
    }
   ],
   "source": [
    "import pandas as pd\n",
    "\n",
    "\n",
    "orders_df = pd.read_csv('/Users/ekolodyazhnaya/Downloads/orders.csv')\n",
    "visitors_df = pd.read_csv('/Users/ekolodyazhnaya/Downloads/visitors.csv')\n",
    "\n",
    "\n",
    "orders_df.head(), visitors_df.head()"
   ]
  },
  {
   "cell_type": "code",
   "execution_count": 5,
   "id": "374893ca",
   "metadata": {},
   "outputs": [],
   "source": [
    "# проверим посетителей на попадание в обе группы \n",
    "cross_group_visitors = orders_df.groupby('visitorId').agg({'group': 'nunique'}).query('group > 1')\n",
    "cross_group_visitors_count = cross_group_visitors.shape[0]\n",
    "cross_group_visitors_count\n",
    "# они у нас есть и мы их исключаем из анализа \n",
    "\n",
    "cross_group_visitor_ids = cross_group_visitors.index\n",
    "filtered_orders_df = orders_df[~orders_df['visitorId'].isin(cross_group_visitor_ids)]"
   ]
  },
  {
   "cell_type": "code",
   "execution_count": 28,
   "id": "f973834a",
   "metadata": {},
   "outputs": [
    {
     "data": {
      "text/html": [
       "<div>\n",
       "<style scoped>\n",
       "    .dataframe tbody tr th:only-of-type {\n",
       "        vertical-align: middle;\n",
       "    }\n",
       "\n",
       "    .dataframe tbody tr th {\n",
       "        vertical-align: top;\n",
       "    }\n",
       "\n",
       "    .dataframe thead th {\n",
       "        text-align: right;\n",
       "    }\n",
       "</style>\n",
       "<table border=\"1\" class=\"dataframe\">\n",
       "  <thead>\n",
       "    <tr style=\"text-align: right;\">\n",
       "      <th></th>\n",
       "      <th>transactionId</th>\n",
       "      <th>visitorId</th>\n",
       "      <th>date</th>\n",
       "      <th>revenue</th>\n",
       "      <th>group</th>\n",
       "      <th>capped_revenue</th>\n",
       "      <th>conversion_count</th>\n",
       "      <th>hour_of_day</th>\n",
       "      <th>day_of_week</th>\n",
       "      <th>month</th>\n",
       "    </tr>\n",
       "  </thead>\n",
       "  <tbody>\n",
       "    <tr>\n",
       "      <th>0</th>\n",
       "      <td>3667963787</td>\n",
       "      <td>3312258926</td>\n",
       "      <td>2019-08-15</td>\n",
       "      <td>1650</td>\n",
       "      <td>B</td>\n",
       "      <td>1650</td>\n",
       "      <td>1</td>\n",
       "      <td>0</td>\n",
       "      <td>3</td>\n",
       "      <td>8</td>\n",
       "    </tr>\n",
       "    <tr>\n",
       "      <th>1</th>\n",
       "      <td>2804400009</td>\n",
       "      <td>3642806036</td>\n",
       "      <td>2019-08-15</td>\n",
       "      <td>730</td>\n",
       "      <td>B</td>\n",
       "      <td>730</td>\n",
       "      <td>1</td>\n",
       "      <td>0</td>\n",
       "      <td>3</td>\n",
       "      <td>8</td>\n",
       "    </tr>\n",
       "    <tr>\n",
       "      <th>3</th>\n",
       "      <td>3797467345</td>\n",
       "      <td>1196621759</td>\n",
       "      <td>2019-08-15</td>\n",
       "      <td>9759</td>\n",
       "      <td>B</td>\n",
       "      <td>9759</td>\n",
       "      <td>1</td>\n",
       "      <td>0</td>\n",
       "      <td>3</td>\n",
       "      <td>8</td>\n",
       "    </tr>\n",
       "    <tr>\n",
       "      <th>4</th>\n",
       "      <td>2282983706</td>\n",
       "      <td>2322279887</td>\n",
       "      <td>2019-08-15</td>\n",
       "      <td>2308</td>\n",
       "      <td>B</td>\n",
       "      <td>2308</td>\n",
       "      <td>1</td>\n",
       "      <td>0</td>\n",
       "      <td>3</td>\n",
       "      <td>8</td>\n",
       "    </tr>\n",
       "    <tr>\n",
       "      <th>5</th>\n",
       "      <td>182168103</td>\n",
       "      <td>935554773</td>\n",
       "      <td>2019-08-15</td>\n",
       "      <td>2210</td>\n",
       "      <td>B</td>\n",
       "      <td>2210</td>\n",
       "      <td>1</td>\n",
       "      <td>0</td>\n",
       "      <td>3</td>\n",
       "      <td>8</td>\n",
       "    </tr>\n",
       "    <tr>\n",
       "      <th>...</th>\n",
       "      <td>...</td>\n",
       "      <td>...</td>\n",
       "      <td>...</td>\n",
       "      <td>...</td>\n",
       "      <td>...</td>\n",
       "      <td>...</td>\n",
       "      <td>...</td>\n",
       "      <td>...</td>\n",
       "      <td>...</td>\n",
       "      <td>...</td>\n",
       "    </tr>\n",
       "    <tr>\n",
       "      <th>1191</th>\n",
       "      <td>3592955527</td>\n",
       "      <td>608641596</td>\n",
       "      <td>2019-08-14</td>\n",
       "      <td>16490</td>\n",
       "      <td>B</td>\n",
       "      <td>16490</td>\n",
       "      <td>1</td>\n",
       "      <td>0</td>\n",
       "      <td>2</td>\n",
       "      <td>8</td>\n",
       "    </tr>\n",
       "    <tr>\n",
       "      <th>1192</th>\n",
       "      <td>2662137336</td>\n",
       "      <td>3733762160</td>\n",
       "      <td>2019-08-14</td>\n",
       "      <td>6490</td>\n",
       "      <td>B</td>\n",
       "      <td>6490</td>\n",
       "      <td>1</td>\n",
       "      <td>0</td>\n",
       "      <td>2</td>\n",
       "      <td>8</td>\n",
       "    </tr>\n",
       "    <tr>\n",
       "      <th>1193</th>\n",
       "      <td>2203539145</td>\n",
       "      <td>370388673</td>\n",
       "      <td>2019-08-14</td>\n",
       "      <td>3190</td>\n",
       "      <td>A</td>\n",
       "      <td>3190</td>\n",
       "      <td>1</td>\n",
       "      <td>0</td>\n",
       "      <td>2</td>\n",
       "      <td>8</td>\n",
       "    </tr>\n",
       "    <tr>\n",
       "      <th>1194</th>\n",
       "      <td>1807773912</td>\n",
       "      <td>573423106</td>\n",
       "      <td>2019-08-14</td>\n",
       "      <td>10550</td>\n",
       "      <td>A</td>\n",
       "      <td>10550</td>\n",
       "      <td>1</td>\n",
       "      <td>0</td>\n",
       "      <td>2</td>\n",
       "      <td>8</td>\n",
       "    </tr>\n",
       "    <tr>\n",
       "      <th>1196</th>\n",
       "      <td>3936777065</td>\n",
       "      <td>2108080724</td>\n",
       "      <td>2019-08-15</td>\n",
       "      <td>202740</td>\n",
       "      <td>B</td>\n",
       "      <td>26785</td>\n",
       "      <td>1</td>\n",
       "      <td>0</td>\n",
       "      <td>3</td>\n",
       "      <td>8</td>\n",
       "    </tr>\n",
       "  </tbody>\n",
       "</table>\n",
       "<p>1016 rows × 10 columns</p>\n",
       "</div>"
      ],
      "text/plain": [
       "      transactionId   visitorId       date  revenue group  capped_revenue  \\\n",
       "0        3667963787  3312258926 2019-08-15     1650     B            1650   \n",
       "1        2804400009  3642806036 2019-08-15      730     B             730   \n",
       "3        3797467345  1196621759 2019-08-15     9759     B            9759   \n",
       "4        2282983706  2322279887 2019-08-15     2308     B            2308   \n",
       "5         182168103   935554773 2019-08-15     2210     B            2210   \n",
       "...             ...         ...        ...      ...   ...             ...   \n",
       "1191     3592955527   608641596 2019-08-14    16490     B           16490   \n",
       "1192     2662137336  3733762160 2019-08-14     6490     B            6490   \n",
       "1193     2203539145   370388673 2019-08-14     3190     A            3190   \n",
       "1194     1807773912   573423106 2019-08-14    10550     A           10550   \n",
       "1196     3936777065  2108080724 2019-08-15   202740     B           26785   \n",
       "\n",
       "      conversion_count  hour_of_day  day_of_week  month  \n",
       "0                    1            0            3      8  \n",
       "1                    1            0            3      8  \n",
       "3                    1            0            3      8  \n",
       "4                    1            0            3      8  \n",
       "5                    1            0            3      8  \n",
       "...                ...          ...          ...    ...  \n",
       "1191                 1            0            2      8  \n",
       "1192                 1            0            2      8  \n",
       "1193                 1            0            2      8  \n",
       "1194                 1            0            2      8  \n",
       "1196                 1            0            3      8  \n",
       "\n",
       "[1016 rows x 10 columns]"
      ]
     },
     "execution_count": 28,
     "metadata": {},
     "output_type": "execute_result"
    }
   ],
   "source": [
    "filtered_orders_df"
   ]
  },
  {
   "cell_type": "code",
   "execution_count": null,
   "id": "cde89e4e",
   "metadata": {},
   "outputs": [],
   "source": [
    "# посчитаем базовые показатели "
   ]
  },
  {
   "cell_type": "code",
   "execution_count": 6,
   "id": "2f450995",
   "metadata": {},
   "outputs": [
    {
     "data": {
      "text/html": [
       "<div>\n",
       "<style scoped>\n",
       "    .dataframe tbody tr th:only-of-type {\n",
       "        vertical-align: middle;\n",
       "    }\n",
       "\n",
       "    .dataframe tbody tr th {\n",
       "        vertical-align: top;\n",
       "    }\n",
       "\n",
       "    .dataframe thead th {\n",
       "        text-align: right;\n",
       "    }\n",
       "</style>\n",
       "<table border=\"1\" class=\"dataframe\">\n",
       "  <thead>\n",
       "    <tr style=\"text-align: right;\">\n",
       "      <th></th>\n",
       "      <th>conversions</th>\n",
       "      <th>revenue</th>\n",
       "      <th>visitors</th>\n",
       "      <th>conversion_rate</th>\n",
       "    </tr>\n",
       "    <tr>\n",
       "      <th>group</th>\n",
       "      <th></th>\n",
       "      <th></th>\n",
       "      <th></th>\n",
       "      <th></th>\n",
       "    </tr>\n",
       "  </thead>\n",
       "  <tbody>\n",
       "    <tr>\n",
       "      <th>A</th>\n",
       "      <td>468</td>\n",
       "      <td>3364656</td>\n",
       "      <td>18736</td>\n",
       "      <td>0.024979</td>\n",
       "    </tr>\n",
       "    <tr>\n",
       "      <th>B</th>\n",
       "      <td>548</td>\n",
       "      <td>5068972</td>\n",
       "      <td>18916</td>\n",
       "      <td>0.028970</td>\n",
       "    </tr>\n",
       "  </tbody>\n",
       "</table>\n",
       "</div>"
      ],
      "text/plain": [
       "       conversions  revenue  visitors  conversion_rate\n",
       "group                                                 \n",
       "A              468  3364656     18736         0.024979\n",
       "B              548  5068972     18916         0.028970"
      ]
     },
     "execution_count": 6,
     "metadata": {},
     "output_type": "execute_result"
    }
   ],
   "source": [
    "\n",
    "grouped_orders = filtered_orders_df.groupby('group').agg({\n",
    "    'transactionId': 'count',  \n",
    "    'revenue': 'sum'    \n",
    "}).rename(columns={'transactionId': 'conversions'})\n",
    "\n",
    "total_visitors = visitors_df.groupby('group')['visitors'].sum()\n",
    "\n",
    "\n",
    "ab_summary = grouped_orders.join(total_visitors)\n",
    "ab_summary['conversion_rate'] = ab_summary['conversions'] / ab_summary['visitors']\n",
    "\n",
    "ab_summary\n"
   ]
  },
  {
   "cell_type": "code",
   "execution_count": 9,
   "id": "c7b8fa8a",
   "metadata": {},
   "outputs": [
    {
     "data": {
      "image/png": "[encoded data removed]",
      "text/plain": [
       "<Figure size 1200x600 with 1 Axes>"
      ]
     },
     "metadata": {},
     "output_type": "display_data"
    },
    {
     "data": {
      "text/plain": [
       "(count    1.016000e+03\n",
       " mean     8.300815e+03\n",
       " std      4.212199e+04\n",
       " min      5.000000e+01\n",
       " 25%      1.190000e+03\n",
       " 50%      2.955000e+03\n",
       " 75%      8.134250e+03\n",
       " max      1.294500e+06\n",
       " Name: revenue, dtype: float64,\n",
       " transactionId    0\n",
       " visitorId        0\n",
       " date             0\n",
       " revenue          0\n",
       " group            0\n",
       " dtype: int64,\n",
       " date        0\n",
       " group       0\n",
       " visitors    0\n",
       " dtype: int64)"
      ]
     },
     "execution_count": 9,
     "metadata": {},
     "output_type": "execute_result"
    }
   ],
   "source": [
    "import matplotlib.pyplot as plt\n",
    "import seaborn as sns\n",
    "\n",
    "\n",
    "null_values_orders = filtered_orders_df.isnull().sum()\n",
    "null_values_visitors = visitors_df.isnull().sum()\n",
    "\n",
    "\n",
    "revenue_descriptive_stats = filtered_orders_df['revenue'].describe()\n",
    "\n",
    "\n",
    "plt.figure(figsize=(12, 6))\n",
    "sns.boxplot(x=filtered_orders_df['group'], y=filtered_orders_df['revenue'])\n",
    "plt.title('Distribution of Revenue by Group')\n",
    "plt.ylabel('Revenue')\n",
    "plt.xlabel('Group')\n",
    "plt.show()\n",
    "\n",
    "revenue_descriptive_stats, null_values_orders, null_values_visitors\n"
   ]
  },
  {
   "cell_type": "code",
   "execution_count": 10,
   "id": "eeb915dd",
   "metadata": {},
   "outputs": [],
   "source": [
    "# видим большой выброс в группе B \n",
    "# нулевых значений нет, хорошо"
   ]
  },
  {
   "cell_type": "code",
   "execution_count": 11,
   "id": "5e0fb3ea",
   "metadata": {},
   "outputs": [
    {
     "name": "stderr",
     "output_type": "stream",
     "text": [
      "/var/folders/1_/4_8srx850yd3f0g5gqqhplsw0000gp/T/ipykernel_82462/2572570404.py:3: SettingWithCopyWarning: \n",
      "A value is trying to be set on a copy of a slice from a DataFrame.\n",
      "Try using .loc[row_indexer,col_indexer] = value instead\n",
      "\n",
      "See the caveats in the documentation: https://pandas.pydata.org/pandas-docs/stable/user_guide/indexing.html#returning-a-view-versus-a-copy\n",
      "  filtered_orders_df['capped_revenue'] = filtered_orders_df['revenue'].clip(upper=cap_threshold)\n"
     ]
    },
    {
     "data": {
      "text/html": [
       "<div>\n",
       "<style scoped>\n",
       "    .dataframe tbody tr th:only-of-type {\n",
       "        vertical-align: middle;\n",
       "    }\n",
       "\n",
       "    .dataframe tbody tr th {\n",
       "        vertical-align: top;\n",
       "    }\n",
       "\n",
       "    .dataframe thead th {\n",
       "        text-align: right;\n",
       "    }\n",
       "</style>\n",
       "<table border=\"1\" class=\"dataframe\">\n",
       "  <thead>\n",
       "    <tr style=\"text-align: right;\">\n",
       "      <th></th>\n",
       "      <th>aov_capped</th>\n",
       "      <th>rpv_capped</th>\n",
       "    </tr>\n",
       "    <tr>\n",
       "      <th>group</th>\n",
       "      <th></th>\n",
       "      <th></th>\n",
       "    </tr>\n",
       "  </thead>\n",
       "  <tbody>\n",
       "    <tr>\n",
       "      <th>A</th>\n",
       "      <td>6214.292735</td>\n",
       "      <td>155.224648</td>\n",
       "    </tr>\n",
       "    <tr>\n",
       "      <th>B</th>\n",
       "      <td>6052.686131</td>\n",
       "      <td>175.347431</td>\n",
       "    </tr>\n",
       "  </tbody>\n",
       "</table>\n",
       "</div>"
      ],
      "text/plain": [
       "        aov_capped  rpv_capped\n",
       "group                         \n",
       "A      6214.292735  155.224648\n",
       "B      6052.686131  175.347431"
      ]
     },
     "execution_count": 11,
     "metadata": {},
     "output_type": "execute_result"
    }
   ],
   "source": [
    "# уберём выброс и оставим только 95 квантиль \n",
    "cap_threshold = filtered_orders_df['revenue'].quantile(0.95)\n",
    "filtered_orders_df['capped_revenue'] = filtered_orders_df['revenue'].clip(upper=cap_threshold)\n",
    "\n",
    "# посчитаем AOV и RPV\n",
    "# считаем их, так как нам важны показатели связанные именно с revenue\n",
    "grouped_capped_orders = filtered_orders_df.groupby('group').agg({\n",
    "    'transactionId': 'count',  \n",
    "    'capped_revenue': 'sum'   \n",
    "}).rename(columns={'transactionId': 'conversions'})\n",
    "\n",
    "ab_summary_capped = grouped_capped_orders.join(total_visitors)\n",
    "\n",
    "\n",
    "ab_summary_capped['aov_capped'] = ab_summary_capped['capped_revenue'] / ab_summary_capped['conversions']\n",
    "ab_summary_capped['rpv_capped'] = ab_summary_capped['capped_revenue'] / ab_summary_capped['visitors']\n",
    "\n",
    "ab_summary_capped[['aov_capped', 'rpv_capped']]\n"
   ]
  },
  {
   "cell_type": "code",
   "execution_count": 12,
   "id": "b075cd37",
   "metadata": {},
   "outputs": [],
   "source": [
    "# видим, что группа B хорошо себя показала на выбранной метрике RPV, проверим, \n",
    "# насколько это значение статистически значимо\n"
   ]
  },
  {
   "cell_type": "code",
   "execution_count": 31,
   "id": "dec5bb5c",
   "metadata": {},
   "outputs": [
    {
     "data": {
      "image/png": "[encoded data removed]",
      "text/plain": [
       "<Figure size 1200x600 with 2 Axes>"
      ]
     },
     "metadata": {},
     "output_type": "display_data"
    }
   ],
   "source": [
    "# посмотрим на распределение, подберём способ проверки стат значимости \n",
    "import numpy as np\n",
    "import matplotlib.pyplot as plt\n",
    "import scipy.stats as stats\n",
    "\n",
    "# распределение revenue\n",
    "plt.figure(figsize=(12, 6))\n",
    "plt.subplot(1, 2, 1)\n",
    "plt.hist(filtered_orders_df['capped_revenue'], bins=30, color='blue', edgecolor='black')\n",
    "plt.title('Histogram of Revenue')\n",
    "plt.xlabel('Revenue')\n",
    "plt.ylabel('Frequency')\n",
    "\n",
    "\n",
    "plt.subplot(1, 2, 2)\n",
    "stats.probplot(filtered_orders_df['capped_revenue'], dist=\"norm\", plot=plt)\n",
    "plt.title('Q-Q Plot for Revenue')\n",
    "\n",
    "plt.tight_layout()\n",
    "plt.show()\n"
   ]
  },
  {
   "cell_type": "code",
   "execution_count": 32,
   "id": "c18c0687",
   "metadata": {},
   "outputs": [],
   "source": [
    "# видим на графиках, что мы не попдаем в нормальное распределение, у нас слишком тяжелые хвосты в revenue. \n",
    "# будем использовать два подхода: в первом подходе попробуем нормализовать данные и посмотреть выводы\n",
    "# во втором подходе, используем непараметрический тест, \n",
    "# сравним результаты, сделаем выводы\n",
    "# стоит указать на то, что я не убираю тут хвосты, так как уже мы немного убрали их\n",
    "# возможно, для специфики бизнеса это приемлемо. Возможно стоит проводить исследование отдельно для этой группы"
   ]
  },
  {
   "cell_type": "code",
   "execution_count": 33,
   "id": "e091ec57",
   "metadata": {},
   "outputs": [
    {
     "data": {
      "image/png": "[encoded data removed]",
      "text/plain": [
       "<Figure size 1200x600 with 2 Axes>"
      ]
     },
     "metadata": {},
     "output_type": "display_data"
    }
   ],
   "source": [
    "# первый подход \n",
    "# логарифмируем данные и проведём затем тест шапиро \n",
    "log_revenue = np.log(filtered_orders_df['capped_revenue'] + 1)\n",
    "\n",
    "\n",
    "plt.figure(figsize=(12, 6))\n",
    "plt.subplot(1, 2, 1)\n",
    "plt.hist(log_revenue, bins=30, color='blue', edgecolor='black')\n",
    "plt.title('Histogram of Log-Transformed Revenue')\n",
    "plt.xlabel('Log of Revenue')\n",
    "plt.ylabel('Frequency')\n",
    "\n",
    "\n",
    "plt.subplot(1, 2, 2)\n",
    "stats.probplot(log_revenue, dist=\"norm\", plot=plt)\n",
    "plt.title('Q-Q Plot for Log-Transformed Revenue')\n",
    "\n",
    "plt.tight_layout()\n",
    "plt.show()"
   ]
  },
  {
   "cell_type": "code",
   "execution_count": 42,
   "id": "242aab14",
   "metadata": {},
   "outputs": [
    {
     "name": "stderr",
     "output_type": "stream",
     "text": [
      "/var/folders/1_/4_8srx850yd3f0g5gqqhplsw0000gp/T/ipykernel_82462/956053699.py:22: SettingWithCopyWarning: \n",
      "A value is trying to be set on a copy of a slice from a DataFrame.\n",
      "Try using .loc[row_indexer,col_indexer] = value instead\n",
      "\n",
      "See the caveats in the documentation: https://pandas.pydata.org/pandas-docs/stable/user_guide/indexing.html#returning-a-view-versus-a-copy\n",
      "  filtered_orders_df['capped_revenue'] = filtered_orders_df['revenue'].clip(upper=cap_threshold)\n"
     ]
    },
    {
     "data": {
      "text/plain": [
       "(MannwhitneyuResult(statistic=129145.5, pvalue=0.8447293420488318),\n",
       " ShapiroResult(statistic=0.7670460939407349, pvalue=3.173792279020455e-25),\n",
       " ShapiroResult(statistic=0.7392160892486572, pvalue=1.9308296305363785e-28))"
      ]
     },
     "execution_count": 42,
     "metadata": {},
     "output_type": "execute_result"
    }
   ],
   "source": [
    "# второй заход, проведём сразу несколько тестов: \n",
    "# проверим, что распределение нормально\n",
    "# проведём параметричные и непараметричные проверки\n",
    "from scipy.stats import shapiro, mannwhitneyu, ttest_ind\n",
    "\n",
    "\n",
    "cross_group_visitors = orders_df.groupby('visitorId').agg({'group': 'nunique'}).query('group > 1')\n",
    "cross_group_visitor_ids = cross_group_visitors.index\n",
    "filtered_orders_df = orders_df[~orders_df['visitorId'].isin(cross_group_visitor_ids)]\n",
    "\n",
    "\n",
    "grouped_orders = filtered_orders_df.groupby('group').agg({\n",
    "    'transactionId': 'count',  \n",
    "    'revenue': 'sum'\n",
    "}).rename(columns={'transactionId': 'conversions'})\n",
    "\n",
    "total_visitors = visitors_df.groupby('group')['visitors'].sum()\n",
    "\n",
    "\n",
    "ab_summary = grouped_orders.join(total_visitors)\n",
    "ab_summary['conversion_rate'] = ab_summary['conversions'] / ab_summary['visitors']\n",
    "\n",
    "\n",
    "grouped_capped_orders = filtered_orders_df.groupby('group').agg({\n",
    "    'transactionId': 'count',  \n",
    "    'capped_revenue': 'sum'\n",
    "}).rename(columns={'transactionId': 'conversions'})\n",
    "\n",
    "\n",
    "group_A = filtered_orders_df[filtered_orders_df['group'] == 'A']\n",
    "group_B = filtered_orders_df[filtered_orders_df['group'] == 'B']\n",
    "\n",
    "\n",
    "# Тест на нормальность шапиро\n",
    "normality_aov_A = shapiro(group_A['capped_revenue'].dropna())\n",
    "normality_aov_B = shapiro(group_B['capped_revenue'].dropna())\n",
    "\n",
    "if normality_aov_A.pvalue < 0.05 or normality_aov_B.pvalue < 0.05:\n",
    "    # непараметричный тест Уитни\n",
    "    test_result_aov = mannwhitneyu(group_A['capped_revenue'], group_B['capped_revenue'])\n",
    "else:\n",
    "    # параметриный t-test\n",
    "    test_result_aov = ttest_ind(group_A['capped_revenue'], group_B['capped_revenue'])\n",
    "\n",
    "test_result_aov, normality_aov_A, normality_aov_B\n"
   ]
  },
  {
   "cell_type": "code",
   "execution_count": null,
   "id": "d3e5b312",
   "metadata": {},
   "outputs": [],
   "source": [
    "# Показатели везде высокие, значит, что добавленное уведомление не получило статистического подтверждения своей успешности.\n",
    "# Более подробное объяснение будет ниже. "
   ]
  },
  {
   "cell_type": "code",
   "execution_count": 39,
   "id": "46cb203b",
   "metadata": {},
   "outputs": [
    {
     "data": {
      "text/plain": [
       "(5.560773535163217, 0.018367296895696848)"
      ]
     },
     "execution_count": 39,
     "metadata": {},
     "output_type": "execute_result"
    }
   ],
   "source": [
    "# проверим конверсию \n",
    "from scipy.stats import chi2_contingency\n",
    "\n",
    "conversion_table = [\n",
    "    [ab_summary_capped.loc['A', 'conversions'], ab_summary_capped.loc['A', 'visitors'] - ab_summary_capped.loc['A', 'conversions']],\n",
    "    [ab_summary_capped.loc['B', 'conversions'], ab_summary_capped.loc['B', 'visitors'] - ab_summary_capped.loc['B', 'conversions']]\n",
    "]\n",
    "\n",
    "\n",
    "chi2, p_value, _, _ = chi2_contingency(conversion_table)\n",
    "\n",
    "chi2, p_value"
   ]
  },
  {
   "cell_type": "code",
   "execution_count": 51,
   "id": "f52fd194",
   "metadata": {},
   "outputs": [
    {
     "data": {
      "text/plain": [
       "(-2.3899344431697442,\n",
       " 0.01685138043470311,\n",
       " MannwhitneyuResult(statistic=129236.5, pvalue=0.8294908998149533),\n",
       " ShapiroResult(statistic=0.6054279804229736, pvalue=2.8240222045454137e-31),\n",
       " ShapiroResult(statistic=0.08035558462142944, pvalue=4.203895392974451e-45))"
      ]
     },
     "execution_count": 51,
     "metadata": {},
     "output_type": "execute_result"
    }
   ],
   "source": [
    "\n",
    "from statsmodels.stats.proportion import proportions_ztest\n",
    "\n",
    "conversions_A = ab_summary.loc['A', 'conversions']\n",
    "conversions_B = ab_summary.loc['B', 'conversions']\n",
    "visitors_A = ab_summary.loc['A', 'visitors']\n",
    "visitors_B = ab_summary.loc['B', 'visitors']\n",
    "\n",
    "\n",
    "count = np.array([conversions_A, conversions_B])\n",
    "nobs = np.array([visitors_A, visitors_B])\n",
    "z_stat, p_value = proportions_ztest(count, nobs)\n",
    "\n",
    "\n",
    "# проведём z тест для конверсии \n",
    "count = np.array([conversions_A, conversions_B])\n",
    "nobs = np.array([visitors_A, visitors_B])\n",
    "z_stat, p_value = proportions_ztest(count, nobs)\n",
    "\n",
    "# проверим что мы привели данные к нормальному распределению для  RPV\n",
    "normality_rpv_A = shapiro(group_A['revenue']/group_A['revenue'].count())\n",
    "normality_rpv_B = shapiro(group_B['revenue']/group_B['revenue'].count())\n",
    "\n",
    "if normality_rpv_A.pvalue < 0.05 or normality_rpv_B.pvalue < 0.05:\n",
    "    # непараметричный тест манна-уитни\n",
    "    test_result_rpv = mannwhitneyu(group_A['revenue'], group_B['revenue'])\n",
    "else:\n",
    "    # параметричный тест: t-test для RPV\n",
    "    test_result_rpv = ttest_ind(group_A['revenue'], group_B['revenue'])\n",
    "\n",
    "z_stat, p_value, test_result_rpv, normality_rpv_A, normality_rpv_B\n"
   ]
  },
  {
   "cell_type": "code",
   "execution_count": 50,
   "id": "7a15be73",
   "metadata": {},
   "outputs": [],
   "source": [
    "# ShapiroResult - показывает, что не получилось сделать нормальное распределение ни для одной из групп"
   ]
  },
  {
   "cell_type": "code",
   "execution_count": 55,
   "id": "20e9c1c3",
   "metadata": {},
   "outputs": [
    {
     "name": "stdout",
     "output_type": "stream",
     "text": [
      "Shapiro-Wilk Test Statistic: 0.9802625179290771, p-value: 1.64609659236703e-10\n"
     ]
    }
   ],
   "source": [
    "# Шапиро для всей выборки\n",
    "\n",
    "shapiro_test_stat, shapiro_p_value = shapiro(log_revenue)\n",
    "\n",
    "print(f'Shapiro-Wilk Test Statistic: {shapiro_test_stat}, p-value: {shapiro_p_value}')"
   ]
  },
  {
   "cell_type": "code",
   "execution_count": null,
   "id": "71558d58",
   "metadata": {},
   "outputs": [],
   "source": [
    "# аналогично, нет нормального распределения"
   ]
  },
  {
   "cell_type": "code",
   "execution_count": 47,
   "id": "17c92b95",
   "metadata": {},
   "outputs": [
    {
     "data": {
      "text/plain": [
       "(-0.00399318234587034, array([-0.00729384, -0.00080435]))"
      ]
     },
     "execution_count": 47,
     "metadata": {},
     "output_type": "execute_result"
    }
   ],
   "source": [
    "# бутстрэп для подтверждения выводов \n",
    "\n",
    "import numpy as np\n",
    "\n",
    "def bootstrap_statistic(data1, data2, n_bootstrap=10000, func=np.mean):\n",
    "    \"\"\" Perform bootstrapping to estimate the sampling distribution of the difference in a statistic between two samples. \"\"\"\n",
    "    bootstrap_diffs = []\n",
    "    for _ in range(n_bootstrap):\n",
    "        sample1 = np.random.choice(data1, size=len(data1), replace=True)\n",
    "        sample2 = np.random.choice(data2, size=len(data2), replace=True)\n",
    "        stat1 = func(sample1)\n",
    "        stat2 = func(sample2)\n",
    "        bootstrap_diffs.append(stat1 - stat2)\n",
    "    return bootstrap_diffs\n",
    "\n",
    "#подготовка данных\n",
    "group_A_data = np.array([1] * conversions_A + [0] * (visitors_A - conversions_A))\n",
    "group_B_data = np.array([1] * conversions_B + [0] * (visitors_B - conversions_B))\n",
    "\n",
    "# бутстрэп для разницы в конверсиях\n",
    "bootstrap_diffs_conversion_rate = bootstrap_statistic(group_A_data, group_B_data, n_bootstrap=10000, func=np.mean)\n",
    "\n",
    "# постчитаем 95 процентный доверительный интервал\n",
    "confidence_interval = np.percentile(bootstrap_diffs_conversion_rate, [2.5, 97.5])\n",
    "\n",
    "np.mean(bootstrap_diffs_conversion_rate), confidence_interval\n"
   ]
  },
  {
   "cell_type": "code",
   "execution_count": 48,
   "id": "cc94fb79",
   "metadata": {},
   "outputs": [
    {
     "data": {
      "text/plain": [
       "(-88.71949751533094, array([-248.99238608,    6.96983242]))"
      ]
     },
     "execution_count": 48,
     "metadata": {},
     "output_type": "execute_result"
    }
   ],
   "source": [
    "# напишем функцию расчёта RPV\n",
    "def calculate_rpv(data, visitors):\n",
    "    return np.sum(data) / visitors\n",
    "\n",
    "# бутсрап для RPV\n",
    "bootstrap_diffs_rpv = bootstrap_statistic(group_A['revenue'], group_B['revenue'], n_bootstrap=10000, func=lambda x: calculate_rpv(x, visitors_A if x is group_A['revenue'].values else visitors_B))\n",
    "\n",
    "# постчитаем 95 процентный доверительный интервал\n",
    "confidence_interval_rpv = np.percentile(bootstrap_diffs_rpv, [2.5, 97.5])\n",
    "\n",
    "np.mean(bootstrap_diffs_rpv), confidence_interval_rpv\n"
   ]
  },
  {
   "cell_type": "markdown",
   "id": "4031b08e",
   "metadata": {},
   "source": [
    "Анализ, выполненный с использованием метода бутстраппинга для оценки различий в доходе на посетителя (RPV) между группой A и группой B, предоставляет следующие результаты:\n",
    "\n",
    "### Среднее различие: -91.04\n",
    "95% доверительный интервал: [-252.40, 7.57]\n",
    "\n",
    "### Интерпретация:\n",
    "Среднее различие в RPV, оцененное через бутстраппинг, предполагает, что группа A (без рекламного сообщения) может генерировать немного больше дохода на посетителя, чем группа B (с рекламным сообщением), хотя размер эффекта довольно мал. Отрицательное среднее значение указывает на более высокий RPV для группы A.\n",
    "\n",
    "Доверительный интервал интересен тем, что он едва ли включает ноль, что указывает на то, что мы не можем окончательно отвергнуть гипотезу о том, что нет различий в RPV между группами. Этот результат подразумевает, что любые наблюдаемые различия в RPV между двумя группами могут быть статистически не значимыми.\n"
   ]
  },
  {
   "cell_type": "markdown",
   "id": "7f1ee00c",
   "metadata": {},
   "source": [
    "## Полный вывод по проведённому анализу\n",
    "\n",
    "Статистический анализ конверсий:\n",
    "Тесты Z и хи-квадрат показали статистически значимое снижение конверсий при добавлении рекламного сообщения в группе B. Это указывает на то, что сообщение \"Это будет полезно для вас\" отрицательно влияет на вероятность совершения покупки посетителями.\n",
    "\n",
    "\n",
    "Анализ среднего чека (AOV) и дохода на посетителя (RPV):\n",
    "Анализы среднего чека и дохода на посетителя не показали статистически значимых различий между группами, как при использовании теста Манна-Уитни, так и в результате бутстраппинга. Это говорит о том, что рекламное сообщение не влияет значимо на сумму, которую тратят конвертирующиеся пользователи.\n",
    "\n",
    "\n",
    "Бутстраппинг:\n",
    "Применение бутстраппинга для оценки различий в конверсиях подтвердило наличие статистически значимого снижения конверсий в группе B. Также бутстраппинг показал, что различия в доходе на посетителя между группами не являются статистически значимыми, хотя среднее значение было ниже в группе с рекламным сообщением.\n",
    "\n",
    "\n",
    "Общий вывод:\n",
    "Рекламное сообщение на экране оплаты \"Это будет полезно для вас\" скорее отталкивает посетителей, чем стимулирует их к покупке, не влияя при этом на сумму, которую тратят конвертирующиеся пользователи. Рекомендуется пересмотреть формулировку, дизайн или стратегию размещения данного сообщения, возможно, проведя дополнительные тесты с альтернативными вариантами.\n"
   ]
  },
  {
   "cell_type": "code",
   "execution_count": null,
   "id": "41eecd6a",
   "metadata": {},
   "outputs": [],
   "source": []
  },
  {
   "cell_type": "markdown",
   "id": "580675c9",
   "metadata": {},
   "source": [
    "## Рекоммендации \n",
    "\n",
    "\n",
    "### Переоцените рекламное сообщение:\n",
    "\n",
    "Текущее сообщение \"Это будет полезно для вас\" кажется снижает конверсию. Рассмотрите возможность изменения сообщения, чтобы сделать его более привлекательным или релевантным для аудитории. Тестирование различных вариаций сообщения или момента его предъявления может привести к лучшим результатам.\n",
    "\n",
    "\n",
    "### Усовершенствуйте стратегию таргетинга:\n",
    "Исследуйте, возможно ли определенные сегменты аудитории реагируют на сообщение более позитивно. Возможно, сообщение лучше будет воспринято специфическими демографическими группами клиентов (например, новыми против возвращающихся клиентов, различными возрастными группами или предпочтениями на основе прошлого поведения покупателей).\n",
    "\n",
    "\n",
    "### Оптимизируйте размещение и дизайн:\n",
    "Экспериментируйте с различными местами размещения и дизайнами рекламного сообщения. Текущее размещение на экране оплаты может быть воспринято как навязчивое или отвлекающее. Тестирование его наличия в разных частях пути пользователя может найти более эффективное место.\n",
    "\n",
    "\n",
    "### Мониторинг и оптимизация ключевых показателей эффективности (KPI):\n",
    "Продолжайте мониторинг не только ставок конверсии, но и других KPI, таких как средний размер заказа (AOV) и доход на посетителя (RPV). Понимание того, как эти метрики взаимодействуют с изменениями в пользовательском опыте, может дать более глубокое представление о поведении клиентов.\n",
    "\n",
    "\n",
    "## Рекоммендации по тестированию\n",
    "\n",
    "Разбивка на группы: \n",
    "Можно сконцентрироваться на различных группах посетителей, возможно, для каких-то групп призывы к действию или другие сообщения будут иметь больший успех. \n",
    "\n",
    "Дополнительное тестирование:\n",
    "Проведите дополнительные A/B-тесты с различными формулировками сообщений или с рекламным сообщением, включенным на разных этапах пути клиента. Это может включать предпокупочные стадии или ранее в воронке, чтобы увидеть, влияет ли это на процесс принятия решений пользователя по-другому."
   ]
  }
 ],
 "metadata": {
  "kernelspec": {
   "display_name": "Python3 (ekolodyazhnaya)",
   "language": "python",
   "name": "my_kernel_py3"
  },
  "language_info": {
   "codemirror_mode": {
    "name": "ipython",
    "version": 3
   },
   "file_extension": ".py",
   "mimetype": "text/x-python",
   "name": "python",
   "nbconvert_exporter": "python",
   "pygments_lexer": "ipython3",
   "version": "3.8.16"
  }
 },
 "nbformat": 4,
 "nbformat_minor": 5
}
