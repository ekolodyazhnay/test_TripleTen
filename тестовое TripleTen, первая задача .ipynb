{
 "cells": [
  {
   "cell_type": "markdown",
   "id": "bbefa163",
   "metadata": {},
   "source": [
    "## Первая задача "
   ]
  },
  {
   "cell_type": "markdown",
   "id": "5dd8ff34",
   "metadata": {},
   "source": [
    "### Подход к решению\n",
    "\n",
    "В начале я создала временную таблицу, чтобы немного протестирвоать запрос. \n",
    "\n",
    "Написание запроса разбила на несколько частей. В начале разобралась, что именно нужно и добавила несколько допущений. \n",
    "Из описания задачи были сделаны следующий выводы: \n",
    "\n",
    "1. Надо объеденить уроки по профессиям и посмотреть разницу внутри одного пользователя когда они заканчиваются.\n",
    "2. Так как баг касается только одного пользователя и одной профессии,  мы должны собрать в начале группу всех курсов внутри одного пользователя и затем внутри этой группы собрать группы по професиям. Далее надо провести разницу во времени, использовав сортировку (нам важны только те курсы, которые были следующими по времени). \n",
    "3. Будем использовать WITH_CTE, а также оконные функции.\n",
    "\n",
    "\n",
    "Возникший вопрос при решении: \n",
    "1. Первый урок среди всех уроков или только именно в профессии? То есть они начали изучать профессию data_analyst в апреле 2020б, то есть они могли изучать другие профессии ранее?\n",
    "Исходя из этого вопроса было сформировано два допущения при решении: \n",
    "\n",
    "Допущение 1. \n",
    "Пользователь мог изучать другие профессии ранее, но если он изучал data_analysis в апреле 2020 и это был его первый урок, то он попадает в нашу кагорту. \n",
    "\n",
    "Допущение 2. \n",
    "При расчёте дельты мы будем смотреть разницу для выбранных пользователей за всю их историю, а не только с апреля 2020. \n"
   ]
  },
  {
   "cell_type": "markdown",
   "id": "3a8e11c1",
   "metadata": {},
   "source": [
    "Ход написания запроса был следующим: \n",
    "    \n",
    "    1. Для каждого пользователя был выделен его первый урок по каждой профессии. \n",
    "    2. Были взяты пользователи, у которых по профессии data_analysis первый урок в апреле 2020. \n",
    "    3. Была взята вся история обучения для этих пользоватлей и внутри группы профессиий было взято время следующего урока\n",
    "    4. Взяли разницу между временем внутри группы професии и пользователя, проранжировав время\n",
    "    \n",
    "    \n",
    "Ниже весь запрос:     "
   ]
  },
  {
   "cell_type": "code",
   "execution_count": 1,
   "id": "fcc0ada0",
   "metadata": {},
   "outputs": [
    {
     "data": {
      "text/plain": [
       "'WITH first_lessons AS (\\n    SELECT \\n        flt.user_id,\\n        MIN(flt.date_created) AS first_lesson_date\\n    FROM \\n        finished_lesson_test flt\\n    JOIN \\n        lesson_index_test ljt ON flt.lesson_id = ljt.lesson_id\\n    WHERE\\n        ljt.profession_name = \\'data-analyst\\' -- Выбираем только профессию \"data-analyst\"\\n    GROUP BY \\n        flt.user_id\\n),\\nfirst_lessons_in_april AS (\\n    SELECT \\n        user_id\\n    FROM \\n        first_lessons\\n    WHERE\\n        DATE_FORMAT(first_lesson_date, \\'%Y-%m\\') = \\'2020-04\\' -- Выбираем только первые занятия в апреле 2020 года\\n), \\n\\nlesson_completion_with_delta AS (\\n    SELECT \\n        flt.user_id,\\n        flt.date_created AS current_lesson_datetime,\\n        LEAD(flt.date_created) OVER (PARTITION BY flt.user_id, lit.profession_name ORDER BY flt.date_created) AS next_lesson_datetime,\\n        EXTRACT(EPOCH FROM LEAD(flt.date_created) OVER (PARTITION BY flt.user_id, lit.profession_name ORDER BY flt.date_created) - flt.date_created) AS delta_seconds,\\n        lit.profession_name\\n    FROM \\n        finished_lesson_test flt\\n    INNER JOIN \\n        lesson_index_test lit ON flt.lesson_id = lit.lesson_id\\n    INNER JOIN \\n        first_lessons_in_april cohort ON flt.user_id = cohort.user_id\\n)\\nSELECT \\n    user_id,\\n    current_lesson_datetime,\\n    next_lesson_datetime,\\n    delta_seconds,\\n    profession_name\\nFROM \\n    lesson_completion_with_delta\\nWHERE \\n    delta_seconds < 5;\\n'"
      ]
     },
     "execution_count": 1,
     "metadata": {},
     "output_type": "execute_result"
    }
   ],
   "source": [
    "\"\"\"WITH first_lessons AS (\n",
    "    SELECT \n",
    "        flt.user_id,\n",
    "        MIN(flt.date_created) AS first_lesson_date\n",
    "    FROM \n",
    "        finished_lesson_test flt\n",
    "    JOIN \n",
    "        lesson_index_test ljt ON flt.lesson_id = ljt.lesson_id\n",
    "    WHERE\n",
    "        ljt.profession_name = 'data-analyst' -- Выбираем только профессию \"data-analyst\"\n",
    "    GROUP BY \n",
    "        flt.user_id\n",
    "),\n",
    "first_lessons_in_april AS (\n",
    "    SELECT \n",
    "        user_id\n",
    "    FROM \n",
    "        first_lessons\n",
    "    WHERE\n",
    "        DATE_FORMAT(first_lesson_date, '%Y-%m') = '2020-04' -- Выбираем только первые занятия в апреле 2020 года\n",
    "), \n",
    "\n",
    "lesson_completion_with_delta AS (\n",
    "    SELECT \n",
    "        flt.user_id,\n",
    "        flt.date_created AS current_lesson_datetime,\n",
    "        LEAD(flt.date_created) OVER (PARTITION BY flt.user_id, lit.profession_name ORDER BY flt.date_created) AS next_lesson_datetime,\n",
    "        EXTRACT(EPOCH FROM LEAD(flt.date_created) OVER (PARTITION BY flt.user_id, lit.profession_name ORDER BY flt.date_created) - flt.date_created) AS delta_seconds,\n",
    "        lit.profession_name\n",
    "    FROM \n",
    "        finished_lesson_test flt\n",
    "    INNER JOIN \n",
    "        lesson_index_test lit ON flt.lesson_id = lit.lesson_id\n",
    "    INNER JOIN \n",
    "        first_lessons_in_april cohort ON flt.user_id = cohort.user_id\n",
    ")\n",
    "SELECT \n",
    "    user_id,\n",
    "    current_lesson_datetime,\n",
    "    next_lesson_datetime,\n",
    "    delta_seconds,\n",
    "    profession_name\n",
    "FROM \n",
    "    lesson_completion_with_delta\n",
    "WHERE \n",
    "    delta_seconds < 5;\n",
    "\"\"\""
   ]
  },
  {
   "cell_type": "code",
   "execution_count": null,
   "id": "b4f23dba",
   "metadata": {},
   "outputs": [],
   "source": []
  },
  {
   "cell_type": "code",
   "execution_count": null,
   "id": "b7edf1f4",
   "metadata": {},
   "outputs": [],
   "source": []
  },
  {
   "cell_type": "code",
   "execution_count": null,
   "id": "4c022429",
   "metadata": {},
   "outputs": [],
   "source": []
  }
 ],
 "metadata": {
  "kernelspec": {
   "display_name": "Python3 (ekolodyazhnaya)",
   "language": "python",
   "name": "my_kernel_py3"
  },
  "language_info": {
   "codemirror_mode": {
    "name": "ipython",
    "version": 3
   },
   "file_extension": ".py",
   "mimetype": "text/x-python",
   "name": "python",
   "nbconvert_exporter": "python",
   "pygments_lexer": "ipython3",
   "version": "3.8.16"
  }
 },
 "nbformat": 4,
 "nbformat_minor": 5
}
