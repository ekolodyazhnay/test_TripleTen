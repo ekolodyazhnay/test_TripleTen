{
 "cells": [
  {
   "cell_type": "markdown",
   "id": "94792c75",
   "metadata": {},
   "source": [
    "## Вторая задача\n",
    "Для второй задачи был подготовлен отдельно датасет\n",
    "В данной задаче не было разбивки на кагорты, поэтому мы их не учитываем при подготовке датасета\n",
    "Используем фэковые данные, с добавлением кейсов, когда есть маленькие интервалы между уроками \n"
   ]
  },
  {
   "cell_type": "code",
   "execution_count": 5,
   "id": "960ff191",
   "metadata": {},
   "outputs": [],
   "source": [
    "import pandas as pd\n",
    "from faker import Faker\n",
    "import random\n",
    "from datetime import datetime, timedelta\n",
    "\n",
    "# делаем фэйковые данные \n",
    "fake = Faker()\n",
    "\n",
    "professions = [\n",
    "    {'profession_id': 1, 'profession_name': 'Data Analyst'},\n",
    "    {'profession_id': 2, 'profession_name': 'Software Engineer'},\n",
    "    {'profession_id': 3, 'profession_name': 'Graphic Designer'},\n",
    "    {'profession_id': 4, 'profession_name': 'Project Manager'},\n",
    "    {'profession_id': 5, 'profession_name': 'Marketing Specialist'}\n",
    "]\n",
    "\n",
    "# Генерируем для профессий \n",
    "lesson_data = []\n",
    "lesson_id = 1\n",
    "for profession in professions:\n",
    "    for i in range(1, 4):\n",
    "        lesson_data.append({\n",
    "            'lesson_id': lesson_id,\n",
    "            'lesson_name': fake.word(),\n",
    "            'profession_id': profession['profession_id'],\n",
    "            'profession_name': profession['profession_name']\n",
    "        })\n",
    "        lesson_id += 1\n",
    "\n",
    "# Делаем для 200 юзеров\n",
    "finished_lesson_data = []\n",
    "user_ids = list(range(1, 201)) \n",
    "completed_lessons = set() \n",
    "lesson_counter = 1\n",
    "for user_id in user_ids:\n",
    "    for lesson_id in range(1, lesson_id):\n",
    "        profession_id = lesson_data[lesson_id - 1]['profession_id'] \n",
    "        if (lesson_id, user_id) not in completed_lessons: \n",
    "            lesson_date = fake.date_time_between(start_date='-30d', end_date='now')\n",
    "            finished_lesson_data.append({\n",
    "                'id': lesson_counter,\n",
    "                'date_created': lesson_date,\n",
    "                'lesson_id': lesson_id,\n",
    "                'user_id': user_id\n",
    "            })\n",
    "            lesson_counter += 1\n",
    "            completed_lessons.add((lesson_id, user_id)) \n",
    "            if random.random() < 0.2 and lesson_id < lesson_counter:  # 20% probability\n",
    "                prev_lesson_date = lesson_date - timedelta(seconds=random.uniform(0, 5))\n",
    "                finished_lesson_data.append({\n",
    "                    'id': lesson_counter,\n",
    "                    'date_created': prev_lesson_date,\n",
    "                    'lesson_id': lesson_id,\n",
    "                    'user_id': user_id\n",
    "                })\n",
    "                lesson_counter += 1\n",
    "\n",
    "lesson_df = pd.DataFrame(lesson_data)\n",
    "finished_lesson_df = pd.DataFrame(finished_lesson_data)\n"
   ]
  },
  {
   "cell_type": "code",
   "execution_count": 7,
   "id": "d11a74c4",
   "metadata": {},
   "outputs": [],
   "source": [
    "merged_df = pd.merge(\n",
    "    finished_lesson_df, lesson_df[['lesson_id', 'lesson_name', 'profession_id']], on='lesson_id', how='left')\n",
    "merged_df.sort_values(by=['user_id', 'profession_id', 'date_created'], inplace=True)\n",
    "\n",
    "# Calculate the time delta between consecutive lessons for each user\n",
    "merged_df['completion_time'] = merged_df.groupby(['user_id', 'profession_id'])['date_created'].diff().dt.seconds\n",
    "merged_df.to_csv('merged_df.csv', index=False)"
   ]
  },
  {
   "cell_type": "markdown",
   "id": "e2d21b5e",
   "metadata": {},
   "source": [
    "## Ссылка на борд в Tableau \n",
    "https://public.tableau.com/app/profile/ekaterina.kolodyazhnaya3944/viz/testtask2_17141612964500/TripleTen"
   ]
  }
 ],
 "metadata": {
  "kernelspec": {
   "display_name": "Python3 (ekolodyazhnaya)",
   "language": "python",
   "name": "my_kernel_py3"
  },
  "language_info": {
   "codemirror_mode": {
    "name": "ipython",
    "version": 3
   },
   "file_extension": ".py",
   "mimetype": "text/x-python",
   "name": "python",
   "nbconvert_exporter": "python",
   "pygments_lexer": "ipython3",
   "version": "3.8.16"
  }
 },
 "nbformat": 4,
 "nbformat_minor": 5
}
